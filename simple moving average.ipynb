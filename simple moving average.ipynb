{
 "cells": [
  {
   "cell_type": "markdown",
   "metadata": {},
   "source": [
    "# Simple Moving Average Plot"
   ]
  },
  {
   "cell_type": "markdown",
   "metadata": {},
   "source": [
    "Little script to (1) request realtime and historical global equity data with Alpha Vantage API, (2) evaluete 2 different time periods moving average and (3) plot it for comparison.\n",
    "Feel free to use, improve and change data parameters."
   ]
  },
  {
   "cell_type": "code",
   "execution_count": null,
   "metadata": {},
   "outputs": [],
   "source": [
    "import requests\n",
    "import json\n",
    "import pandas as pd\n",
    "import numpy as np\n",
    "from datetime import datetime\n",
    "\n",
    "\n",
    "#request function\n",
    "def request(ticker):\n",
    "    url = \"https://www.alphavantage.co/query\"\n",
    "\n",
    "    api_key = \"###########\" #insert your api key. Claim your: https://www.alphavantage.co/support/#api-key\n",
    "\n",
    "    data = { \"function\": 'TIME_SERIES_DAILY', #change parameters to change temporal resolution. doc:https://www.alphavantage.co/documentation/)%20for%20TIME_SERIES_INTRADAY.'\n",
    "             \"symbol\": ticker, \n",
    "             \"apikey\": api_key,\n",
    "            'outputsize' : 'full'\n",
    "           }\n",
    "    page = requests.get(url, params = data)\n",
    "    \n",
    "    return pd.DataFrame(page.json()['Time Series (Daily)']).T\n",
    "\n",
    "#converting to time series function\n",
    "def todate(timeseries):\n",
    "    x=[]\n",
    "    y=[]\n",
    "    for i in range(len(timeseries)):\n",
    "        if(np.isnan(float(timeseries[i]))==False):\n",
    "            x.append(datetime.strptime(timeseries.index[i],'%Y-%m-%d'))\n",
    "            y.append(float(timeseries[i]))\n",
    "    timeseries = pd.Series(y,x)\n",
    "    return (timeseries)\n",
    "\n",
    "#evaluate moving averages function\n",
    "def SMA_evaluation(df,KMAS,KMAL):\n",
    "    MAS = df['4. close'].rolling(window=KMAS).mean()\n",
    "    MAS = todate(MAS)\n",
    "    MAL = df['4. close'].rolling(window=KMAL).mean()\n",
    "    MAL = todate(MAL)\n",
    "    P = df['4. close']\n",
    "    P = todate(P)\n",
    "    return MAS, MAL, P\n",
    "\n",
    "#plot function\n",
    "def SMA_plot(MAS,MAL,P,ticker,KMAS,KMAL):\n",
    "    %matplotlib notebook\n",
    "    import matplotlib.pyplot as plt\n",
    "    \n",
    "    plt.figure()\n",
    "    plt.plot(P.index, P, label='Price')\n",
    "    plt.plot(MAS.index, MAS, label='{} time periods Moving Average'.format(KMAS))\n",
    "    plt.plot(MAL.index, MAL, label='{} time periods Moving Average'.format(KMAL))\n",
    "    plt.legend()\n",
    "    plt.axis([P.index[-300], P.index[-1], min(P[-300:])-np.std(P[-300:]), max(P[-300:])+np.std(P[-300:])]) #I'm ploting 300 time periods\n",
    "    plt.title('{}'.format(ticker))\n",
    "    plt.ylabel('Price ($)')\n",
    "\n",
    "#main\n",
    "def SMA_Comparison(ticker,KMAS=28,KMAL=72):\n",
    "    df = request(ticker)\n",
    "    MAS,MAL,P = SMA_evaluation(df,KMAS,KMAL)\n",
    "    SMA_plot(MAS,MAL,P,ticker,KMAS,KMAL)\n",
    "\n",
    "    \n",
    "#parameters:\n",
    "ticker = '####' #stock ticker\n",
    "KMAS = 28 #short-term moving average number of time periods\n",
    "KMML = 72 #long-term  moving average number of time periods\n",
    "\n",
    "SMA_Comparison(ticker,KMAS,KMAL)"
   ]
  }
 ],
 "metadata": {
  "kernelspec": {
   "display_name": "Python 3",
   "language": "python",
   "name": "python3"
  },
  "language_info": {
   "codemirror_mode": {
    "name": "ipython",
    "version": 3
   },
   "file_extension": ".py",
   "mimetype": "text/x-python",
   "name": "python",
   "nbconvert_exporter": "python",
   "pygments_lexer": "ipython3",
   "version": "3.6.4"
  }
 },
 "nbformat": 4,
 "nbformat_minor": 2
}
